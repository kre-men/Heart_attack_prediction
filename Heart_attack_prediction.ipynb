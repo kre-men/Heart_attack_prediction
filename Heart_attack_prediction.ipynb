{
  "cells": [
    {
      "cell_type": "markdown",
      "metadata": {
        "id": "view-in-github",
        "colab_type": "text"
      },
      "source": [
        "<a href=\"https://colab.research.google.com/github/kre-men/Heart_attack_prediction/blob/main/Heart_attack_prediction.ipynb\" target=\"_parent\"><img src=\"https://colab.research.google.com/assets/colab-badge.svg\" alt=\"Open In Colab\"/></a>"
      ]
    },
    {
      "cell_type": "code",
      "execution_count": 1,
      "outputs": [],
      "source": [
        " # Heart attack prediction"
      ],
      "metadata": {
        "id": "gF8Ovbbg_-hp"
      }
    },
    {
      "cell_type": "code",
      "execution_count": null,
      "metadata": {
        "collapsed": true,
        "ExecuteTime": {
          "end_time": "2023-12-19T13:13:51.161910600Z",
          "start_time": "2023-12-19T13:13:51.095794300Z"
        },
        "id": "SzTW4X4B_-hs"
      },
      "outputs": [],
      "source": [
        "import keras as keras\n",
        "import pandas as pd\n",
        "import numpy as np\n",
        "import matplotlib.pyplot as plt\n",
        "import seaborn as sns\n",
        "from sklearn.model_selection import train_test_split\n",
        "from sklearn.preprocessing import StandardScaler\n",
        "from sklearn.linear_model import LogisticRegression\n",
        "from sklearn.ensemble import RandomForestClassifier\n",
        "from xgboost import XGBClassifier\n",
        "from sklearn.svm import SVC\n",
        "from sklearn.neural_network import MLPClassifier\n",
        "from sklearn.metrics import accuracy_score, classification_report, confusion_matrix\n",
        "from sklearn.metrics import accuracy_score, precision_score, recall_score, f1_score\n",
        "\n",
        "%matplotlib inline"
      ]
    },
    {
      "cell_type": "code",
      "execution_count": null,
      "outputs": [],
      "source": [
        "pd.set_option('display.max_colwidth', None)"
      ],
      "metadata": {
        "ExecuteTime": {
          "end_time": "2023-12-19T13:13:51.739663800Z",
          "start_time": "2023-12-19T13:13:51.708714800Z"
        },
        "id": "Xnqg3_kf_-hu"
      }
    },
    {
      "cell_type": "code",
      "execution_count": null,
      "outputs": [],
      "source": [
        "data = pd.read_csv('heart_attack.csv')"
      ],
      "metadata": {
        "ExecuteTime": {
          "end_time": "2023-12-19T13:13:52.471515600Z",
          "start_time": "2023-12-19T13:13:52.341993300Z"
        },
        "id": "WkzrDzb5_-hv"
      }
    },
    {
      "cell_type": "code",
      "execution_count": null,
      "outputs": [
        {
          "data": {
            "text/plain": "   HeartDiseaseorAttack  HighBP  HighChol  CholCheck   BMI  Smoker  Stroke  \\\n0                     0       1         1          1  40.0       1       0   \n1                     0       0         0          0  25.0       1       0   \n2                     0       1         1          1  28.0       0       0   \n3                     0       1         0          1  27.0       0       0   \n4                     0       1         1          1  24.0       0       0   \n\n   Diabetes  PhysActivity  HvyAlcoholConsump  MentHlth  PhysHlth  Sex  Age  \\\n0         0             0                  0        18        15    0    9   \n1         0             1                  0         0         0    0    7   \n2         0             0                  0        30        30    0    9   \n3         0             1                  0         0         0    0   11   \n4         0             1                  0         3         0    0   11   \n\n   Education  Income  \n0          4       3  \n1          6       1  \n2          4       8  \n3          3       6  \n4          5       4  ",
            "text/html": "<div>\n<style scoped>\n    .dataframe tbody tr th:only-of-type {\n        vertical-align: middle;\n    }\n\n    .dataframe tbody tr th {\n        vertical-align: top;\n    }\n\n    .dataframe thead th {\n        text-align: right;\n    }\n</style>\n<table border=\"1\" class=\"dataframe\">\n  <thead>\n    <tr style=\"text-align: right;\">\n      <th></th>\n      <th>HeartDiseaseorAttack</th>\n      <th>HighBP</th>\n      <th>HighChol</th>\n      <th>CholCheck</th>\n      <th>BMI</th>\n      <th>Smoker</th>\n      <th>Stroke</th>\n      <th>Diabetes</th>\n      <th>PhysActivity</th>\n      <th>HvyAlcoholConsump</th>\n      <th>MentHlth</th>\n      <th>PhysHlth</th>\n      <th>Sex</th>\n      <th>Age</th>\n      <th>Education</th>\n      <th>Income</th>\n    </tr>\n  </thead>\n  <tbody>\n    <tr>\n      <th>0</th>\n      <td>0</td>\n      <td>1</td>\n      <td>1</td>\n      <td>1</td>\n      <td>40.0</td>\n      <td>1</td>\n      <td>0</td>\n      <td>0</td>\n      <td>0</td>\n      <td>0</td>\n      <td>18</td>\n      <td>15</td>\n      <td>0</td>\n      <td>9</td>\n      <td>4</td>\n      <td>3</td>\n    </tr>\n    <tr>\n      <th>1</th>\n      <td>0</td>\n      <td>0</td>\n      <td>0</td>\n      <td>0</td>\n      <td>25.0</td>\n      <td>1</td>\n      <td>0</td>\n      <td>0</td>\n      <td>1</td>\n      <td>0</td>\n      <td>0</td>\n      <td>0</td>\n      <td>0</td>\n      <td>7</td>\n      <td>6</td>\n      <td>1</td>\n    </tr>\n    <tr>\n      <th>2</th>\n      <td>0</td>\n      <td>1</td>\n      <td>1</td>\n      <td>1</td>\n      <td>28.0</td>\n      <td>0</td>\n      <td>0</td>\n      <td>0</td>\n      <td>0</td>\n      <td>0</td>\n      <td>30</td>\n      <td>30</td>\n      <td>0</td>\n      <td>9</td>\n      <td>4</td>\n      <td>8</td>\n    </tr>\n    <tr>\n      <th>3</th>\n      <td>0</td>\n      <td>1</td>\n      <td>0</td>\n      <td>1</td>\n      <td>27.0</td>\n      <td>0</td>\n      <td>0</td>\n      <td>0</td>\n      <td>1</td>\n      <td>0</td>\n      <td>0</td>\n      <td>0</td>\n      <td>0</td>\n      <td>11</td>\n      <td>3</td>\n      <td>6</td>\n    </tr>\n    <tr>\n      <th>4</th>\n      <td>0</td>\n      <td>1</td>\n      <td>1</td>\n      <td>1</td>\n      <td>24.0</td>\n      <td>0</td>\n      <td>0</td>\n      <td>0</td>\n      <td>1</td>\n      <td>0</td>\n      <td>3</td>\n      <td>0</td>\n      <td>0</td>\n      <td>11</td>\n      <td>5</td>\n      <td>4</td>\n    </tr>\n  </tbody>\n</table>\n</div>"
          },
          "execution_count": 61,
          "metadata": {},
          "output_type": "execute_result"
        }
      ],
      "source": [
        "data.head()"
      ],
      "metadata": {
        "ExecuteTime": {
          "end_time": "2023-12-17T14:35:33.159232300Z",
          "start_time": "2023-12-17T14:35:33.116721300Z"
        },
        "id": "vxuFppeV_-hv",
        "outputId": "24bdcd37-a233-4aba-eb14-a33ad8eff469"
      }
    },
    {
      "cell_type": "code",
      "execution_count": null,
      "outputs": [
        {
          "name": "stdout",
          "output_type": "stream",
          "text": [
            "<class 'pandas.core.frame.DataFrame'>\n",
            "RangeIndex: 129998 entries, 0 to 129997\n",
            "Data columns (total 16 columns):\n",
            " #   Column                Non-Null Count   Dtype  \n",
            "---  ------                --------------   -----  \n",
            " 0   HeartDiseaseorAttack  129998 non-null  int64  \n",
            " 1   HighBP                129998 non-null  int64  \n",
            " 2   HighChol              129998 non-null  int64  \n",
            " 3   CholCheck             129998 non-null  int64  \n",
            " 4   BMI                   129988 non-null  float64\n",
            " 5   Smoker                129998 non-null  int64  \n",
            " 6   Stroke                129998 non-null  int64  \n",
            " 7   Diabetes              129998 non-null  int64  \n",
            " 8   PhysActivity          129998 non-null  int64  \n",
            " 9   HvyAlcoholConsump     129998 non-null  int64  \n",
            " 10  MentHlth              129998 non-null  int64  \n",
            " 11  PhysHlth              129998 non-null  int64  \n",
            " 12  Sex                   129998 non-null  int64  \n",
            " 13  Age                   129998 non-null  int64  \n",
            " 14  Education             129998 non-null  int64  \n",
            " 15  Income                129998 non-null  int64  \n",
            "dtypes: float64(1), int64(15)\n",
            "memory usage: 15.9 MB\n"
          ]
        }
      ],
      "source": [
        "data.info()"
      ],
      "metadata": {
        "ExecuteTime": {
          "end_time": "2023-12-17T14:35:34.618587900Z",
          "start_time": "2023-12-17T14:35:34.575019800Z"
        },
        "id": "wwsViLNI_-hx",
        "outputId": "97a9709b-b556-43e1-9fce-73a8a1eae389"
      }
    },
    {
      "cell_type": "code",
      "execution_count": null,
      "outputs": [
        {
          "data": {
            "text/plain": "HeartDiseaseorAttack     0\nHighBP                   0\nHighChol                 0\nCholCheck                0\nBMI                     10\nSmoker                   0\nStroke                   0\nDiabetes                 0\nPhysActivity             0\nHvyAlcoholConsump        0\nMentHlth                 0\nPhysHlth                 0\nSex                      0\nAge                      0\nEducation                0\nIncome                   0\ndtype: int64"
          },
          "execution_count": 63,
          "metadata": {},
          "output_type": "execute_result"
        }
      ],
      "source": [
        "data.isnull().sum()"
      ],
      "metadata": {
        "ExecuteTime": {
          "end_time": "2023-12-17T14:35:35.584818Z",
          "start_time": "2023-12-17T14:35:35.560634800Z"
        },
        "id": "SftIB94g_-hy",
        "outputId": "a1a735bc-607d-4598-a730-d585cbea3675"
      }
    },
    {
      "cell_type": "code",
      "execution_count": null,
      "outputs": [
        {
          "data": {
            "text/plain": "HeartDiseaseorAttack     0\nHighBP                   0\nHighChol                 0\nCholCheck                0\nBMI                     10\nSmoker                   0\nStroke                   0\nDiabetes                 0\nPhysActivity             0\nHvyAlcoholConsump        0\nMentHlth                 0\nPhysHlth                 0\nSex                      0\nAge                      0\nEducation                0\nIncome                   0\ndtype: int64"
          },
          "execution_count": 64,
          "metadata": {},
          "output_type": "execute_result"
        }
      ],
      "source": [
        "data.isna().sum()"
      ],
      "metadata": {
        "ExecuteTime": {
          "end_time": "2023-12-17T14:35:36.959739600Z",
          "start_time": "2023-12-17T14:35:36.936721700Z"
        },
        "id": "Zq8cTo3k_-hy",
        "outputId": "063862d6-fb6f-4d96-bf32-6f15a364e074"
      }
    },
    {
      "cell_type": "code",
      "execution_count": null,
      "outputs": [
        {
          "data": {
            "text/plain": "22961"
          },
          "execution_count": 5,
          "metadata": {},
          "output_type": "execute_result"
        }
      ],
      "source": [
        "data.duplicated().sum()"
      ],
      "metadata": {
        "ExecuteTime": {
          "end_time": "2023-12-17T18:35:36.971745300Z",
          "start_time": "2023-12-17T18:35:36.859690900Z"
        },
        "id": "owbCjE0h_-hy",
        "outputId": "a6453d68-cac6-4e7d-c389-5e5c01be1ac9"
      }
    },
    {
      "cell_type": "code",
      "execution_count": null,
      "outputs": [
        {
          "data": {
            "text/plain": "                         count       mean       std   min   25%   50%   75%  \\\nHeartDiseaseorAttack  107027.0   0.110794  0.313879   0.0   0.0   0.0   0.0   \nHighBP                107027.0   0.470564  0.499135   0.0   0.0   0.0   1.0   \nHighChol              107027.0   0.453428  0.497829   0.0   0.0   0.0   1.0   \nCholCheck             107027.0   0.957525  0.201672   0.0   1.0   1.0   1.0   \nBMI                   107027.0  28.969737  7.410266  12.0  24.0  28.0  32.0   \nSmoker                107027.0   0.483102  0.499717   0.0   0.0   0.0   1.0   \nStroke                107027.0   0.050071  0.218093   0.0   0.0   0.0   0.0   \nDiabetes              107027.0   0.351893  0.746584   0.0   0.0   0.0   0.0   \nPhysActivity          107027.0   0.718650  0.449660   0.0   0.0   1.0   1.0   \nHvyAlcoholConsump     107027.0   0.066497  0.249150   0.0   0.0   0.0   0.0   \nMentHlth              107027.0   3.804591  7.925469   0.0   0.0   0.0   3.0   \nPhysHlth              107027.0   5.091790  9.317488   0.0   0.0   0.0   5.0   \nSex                   107027.0   0.429985  0.495076   0.0   0.0   0.0   1.0   \nAge                   107027.0   8.135798  3.105602   1.0   6.0   9.0  10.0   \nEducation             107027.0   4.965560  0.995097   1.0   4.0   5.0   6.0   \nIncome                107027.0   5.814019  2.105218   1.0   4.0   6.0   8.0   \n\n                       max  \nHeartDiseaseorAttack   1.0  \nHighBP                 1.0  \nHighChol               1.0  \nCholCheck              1.0  \nBMI                   98.0  \nSmoker                 1.0  \nStroke                 1.0  \nDiabetes               2.0  \nPhysActivity           1.0  \nHvyAlcoholConsump      1.0  \nMentHlth              30.0  \nPhysHlth              30.0  \nSex                    1.0  \nAge                   13.0  \nEducation              6.0  \nIncome                 8.0  ",
            "text/html": "<div>\n<style scoped>\n    .dataframe tbody tr th:only-of-type {\n        vertical-align: middle;\n    }\n\n    .dataframe tbody tr th {\n        vertical-align: top;\n    }\n\n    .dataframe thead th {\n        text-align: right;\n    }\n</style>\n<table border=\"1\" class=\"dataframe\">\n  <thead>\n    <tr style=\"text-align: right;\">\n      <th></th>\n      <th>count</th>\n      <th>mean</th>\n      <th>std</th>\n      <th>min</th>\n      <th>25%</th>\n      <th>50%</th>\n      <th>75%</th>\n      <th>max</th>\n    </tr>\n  </thead>\n  <tbody>\n    <tr>\n      <th>HeartDiseaseorAttack</th>\n      <td>107027.0</td>\n      <td>0.110794</td>\n      <td>0.313879</td>\n      <td>0.0</td>\n      <td>0.0</td>\n      <td>0.0</td>\n      <td>0.0</td>\n      <td>1.0</td>\n    </tr>\n    <tr>\n      <th>HighBP</th>\n      <td>107027.0</td>\n      <td>0.470564</td>\n      <td>0.499135</td>\n      <td>0.0</td>\n      <td>0.0</td>\n      <td>0.0</td>\n      <td>1.0</td>\n      <td>1.0</td>\n    </tr>\n    <tr>\n      <th>HighChol</th>\n      <td>107027.0</td>\n      <td>0.453428</td>\n      <td>0.497829</td>\n      <td>0.0</td>\n      <td>0.0</td>\n      <td>0.0</td>\n      <td>1.0</td>\n      <td>1.0</td>\n    </tr>\n    <tr>\n      <th>CholCheck</th>\n      <td>107027.0</td>\n      <td>0.957525</td>\n      <td>0.201672</td>\n      <td>0.0</td>\n      <td>1.0</td>\n      <td>1.0</td>\n      <td>1.0</td>\n      <td>1.0</td>\n    </tr>\n    <tr>\n      <th>BMI</th>\n      <td>107027.0</td>\n      <td>28.969737</td>\n      <td>7.410266</td>\n      <td>12.0</td>\n      <td>24.0</td>\n      <td>28.0</td>\n      <td>32.0</td>\n      <td>98.0</td>\n    </tr>\n    <tr>\n      <th>Smoker</th>\n      <td>107027.0</td>\n      <td>0.483102</td>\n      <td>0.499717</td>\n      <td>0.0</td>\n      <td>0.0</td>\n      <td>0.0</td>\n      <td>1.0</td>\n      <td>1.0</td>\n    </tr>\n    <tr>\n      <th>Stroke</th>\n      <td>107027.0</td>\n      <td>0.050071</td>\n      <td>0.218093</td>\n      <td>0.0</td>\n      <td>0.0</td>\n      <td>0.0</td>\n      <td>0.0</td>\n      <td>1.0</td>\n    </tr>\n    <tr>\n      <th>Diabetes</th>\n      <td>107027.0</td>\n      <td>0.351893</td>\n      <td>0.746584</td>\n      <td>0.0</td>\n      <td>0.0</td>\n      <td>0.0</td>\n      <td>0.0</td>\n      <td>2.0</td>\n    </tr>\n    <tr>\n      <th>PhysActivity</th>\n      <td>107027.0</td>\n      <td>0.718650</td>\n      <td>0.449660</td>\n      <td>0.0</td>\n      <td>0.0</td>\n      <td>1.0</td>\n      <td>1.0</td>\n      <td>1.0</td>\n    </tr>\n    <tr>\n      <th>HvyAlcoholConsump</th>\n      <td>107027.0</td>\n      <td>0.066497</td>\n      <td>0.249150</td>\n      <td>0.0</td>\n      <td>0.0</td>\n      <td>0.0</td>\n      <td>0.0</td>\n      <td>1.0</td>\n    </tr>\n    <tr>\n      <th>MentHlth</th>\n      <td>107027.0</td>\n      <td>3.804591</td>\n      <td>7.925469</td>\n      <td>0.0</td>\n      <td>0.0</td>\n      <td>0.0</td>\n      <td>3.0</td>\n      <td>30.0</td>\n    </tr>\n    <tr>\n      <th>PhysHlth</th>\n      <td>107027.0</td>\n      <td>5.091790</td>\n      <td>9.317488</td>\n      <td>0.0</td>\n      <td>0.0</td>\n      <td>0.0</td>\n      <td>5.0</td>\n      <td>30.0</td>\n    </tr>\n    <tr>\n      <th>Sex</th>\n      <td>107027.0</td>\n      <td>0.429985</td>\n      <td>0.495076</td>\n      <td>0.0</td>\n      <td>0.0</td>\n      <td>0.0</td>\n      <td>1.0</td>\n      <td>1.0</td>\n    </tr>\n    <tr>\n      <th>Age</th>\n      <td>107027.0</td>\n      <td>8.135798</td>\n      <td>3.105602</td>\n      <td>1.0</td>\n      <td>6.0</td>\n      <td>9.0</td>\n      <td>10.0</td>\n      <td>13.0</td>\n    </tr>\n    <tr>\n      <th>Education</th>\n      <td>107027.0</td>\n      <td>4.965560</td>\n      <td>0.995097</td>\n      <td>1.0</td>\n      <td>4.0</td>\n      <td>5.0</td>\n      <td>6.0</td>\n      <td>6.0</td>\n    </tr>\n    <tr>\n      <th>Income</th>\n      <td>107027.0</td>\n      <td>5.814019</td>\n      <td>2.105218</td>\n      <td>1.0</td>\n      <td>4.0</td>\n      <td>6.0</td>\n      <td>8.0</td>\n      <td>8.0</td>\n    </tr>\n  </tbody>\n</table>\n</div>"
          },
          "execution_count": 7,
          "metadata": {},
          "output_type": "execute_result"
        }
      ],
      "source": [
        "data.describe(include=['number', 'object']).T"
      ],
      "metadata": {
        "ExecuteTime": {
          "end_time": "2023-12-17T18:35:47.500827100Z",
          "start_time": "2023-12-17T18:35:47.367838600Z"
        },
        "id": "6HsYoRuj_-hz",
        "outputId": "066f89f7-6d2e-427a-90df-5f5f452c16d4"
      }
    },
    {
      "cell_type": "code",
      "execution_count": null,
      "outputs": [
        {
          "data": {
            "text/plain": "                  Column Data Type  \\\n0   HeartDiseaseorAttack     int64   \n1                 HighBP     int64   \n2               HighChol     int64   \n3              CholCheck     int64   \n4                    BMI   float64   \n5                 Smoker     int64   \n6                 Stroke     int64   \n7               Diabetes     int64   \n8           PhysActivity     int64   \n9      HvyAlcoholConsump     int64   \n10              MentHlth     int64   \n11              PhysHlth     int64   \n12                   Sex     int64   \n13                   Age     int64   \n14             Education     int64   \n15                Income     int64   \n\n                                                                                                                                                                                                                                                                                                                                                                                                                                                                                            Category Names  \n0                                                                                                                                                                                                                                                                                                                                                                                                                                                                                                   [0, 1]  \n1                                                                                                                                                                                                                                                                                                                                                                                                                                                                                                   [1, 0]  \n2                                                                                                                                                                                                                                                                                                                                                                                                                                                                                                   [1, 0]  \n3                                                                                                                                                                                                                                                                                                                                                                                                                                                                                                   [1, 0]  \n4   [40.0, 25.0, 28.0, 27.0, 24.0, 30.0, 34.0, 26.0, 33.0, 21.0, 23.0, 22.0, 38.0, 32.0, 37.0, 31.0, 29.0, 20.0, 35.0, 45.0, 39.0, 19.0, 47.0, 18.0, 36.0, 43.0, 55.0, 49.0, 42.0, 17.0, 16.0, 41.0, 44.0, 50.0, 59.0, 48.0, 52.0, 46.0, 54.0, 57.0, 53.0, 14.0, 15.0, 51.0, 58.0, 63.0, 61.0, 56.0, 74.0, 62.0, 64.0, 66.0, 73.0, 85.0, 60.0, 67.0, 65.0, 70.0, 82.0, 79.0, 92.0, 68.0, 72.0, 88.0, 96.0, 13.0, 81.0, 71.0, 75.0, 12.0, 77.0, 69.0, 76.0, 87.0, 89.0, 84.0, 95.0, 98.0, 91.0, 86.0, 83.0]  \n5                                                                                                                                                                                                                                                                                                                                                                                                                                                                                                   [1, 0]  \n6                                                                                                                                                                                                                                                                                                                                                                                                                                                                                                   [0, 1]  \n7                                                                                                                                                                                                                                                                                                                                                                                                                                                                                                [0, 2, 1]  \n8                                                                                                                                                                                                                                                                                                                                                                                                                                                                                                   [0, 1]  \n9                                                                                                                                                                                                                                                                                                                                                                                                                                                                                                   [0, 1]  \n10                                                                                                                                                                                                                                                                                                                                                                                      [18, 0, 30, 3, 5, 10, 15, 6, 20, 2, 25, 1, 4, 7, 8, 21, 14, 26, 29, 16, 28, 11, 12, 24, 17, 13, 27, 19, 22, 9, 23]  \n11                                                                                                                                                                                                                                                                                                                                                                                      [15, 0, 30, 2, 14, 28, 7, 20, 3, 10, 1, 5, 17, 4, 19, 6, 12, 25, 27, 21, 22, 8, 29, 24, 9, 16, 18, 23, 13, 26, 11]  \n12                                                                                                                                                                                                                                                                                                                                                                                                                                                                                                  [0, 1]  \n13                                                                                                                                                                                                                                                                                                                                                                                                                                                             [9, 7, 11, 10, 8, 13, 4, 6, 12, 5, 1, 3, 2]  \n14                                                                                                                                                                                                                                                                                                                                                                                                                                                                                      [4, 6, 3, 5, 2, 1]  \n15                                                                                                                                                                                                                                                                                                                                                                                                                                                                                [3, 1, 8, 6, 4, 7, 2, 5]  ",
            "text/html": "<div>\n<style scoped>\n    .dataframe tbody tr th:only-of-type {\n        vertical-align: middle;\n    }\n\n    .dataframe tbody tr th {\n        vertical-align: top;\n    }\n\n    .dataframe thead th {\n        text-align: right;\n    }\n</style>\n<table border=\"1\" class=\"dataframe\">\n  <thead>\n    <tr style=\"text-align: right;\">\n      <th></th>\n      <th>Column</th>\n      <th>Data Type</th>\n      <th>Category Names</th>\n    </tr>\n  </thead>\n  <tbody>\n    <tr>\n      <th>0</th>\n      <td>HeartDiseaseorAttack</td>\n      <td>int64</td>\n      <td>[0, 1]</td>\n    </tr>\n    <tr>\n      <th>1</th>\n      <td>HighBP</td>\n      <td>int64</td>\n      <td>[1, 0]</td>\n    </tr>\n    <tr>\n      <th>2</th>\n      <td>HighChol</td>\n      <td>int64</td>\n      <td>[1, 0]</td>\n    </tr>\n    <tr>\n      <th>3</th>\n      <td>CholCheck</td>\n      <td>int64</td>\n      <td>[1, 0]</td>\n    </tr>\n    <tr>\n      <th>4</th>\n      <td>BMI</td>\n      <td>float64</td>\n      <td>[40.0, 25.0, 28.0, 27.0, 24.0, 30.0, 34.0, 26.0, 33.0, 21.0, 23.0, 22.0, 38.0, 32.0, 37.0, 31.0, 29.0, 20.0, 35.0, 45.0, 39.0, 19.0, 47.0, 18.0, 36.0, 43.0, 55.0, 49.0, 42.0, 17.0, 16.0, 41.0, 44.0, 50.0, 59.0, 48.0, 52.0, 46.0, 54.0, 57.0, 53.0, 14.0, 15.0, 51.0, 58.0, 63.0, 61.0, 56.0, 74.0, 62.0, 64.0, 66.0, 73.0, 85.0, 60.0, 67.0, 65.0, 70.0, 82.0, 79.0, 92.0, 68.0, 72.0, 88.0, 96.0, 13.0, 81.0, 71.0, 75.0, 12.0, 77.0, 69.0, 76.0, 87.0, 89.0, 84.0, 95.0, 98.0, 91.0, 86.0, 83.0]</td>\n    </tr>\n    <tr>\n      <th>5</th>\n      <td>Smoker</td>\n      <td>int64</td>\n      <td>[1, 0]</td>\n    </tr>\n    <tr>\n      <th>6</th>\n      <td>Stroke</td>\n      <td>int64</td>\n      <td>[0, 1]</td>\n    </tr>\n    <tr>\n      <th>7</th>\n      <td>Diabetes</td>\n      <td>int64</td>\n      <td>[0, 2, 1]</td>\n    </tr>\n    <tr>\n      <th>8</th>\n      <td>PhysActivity</td>\n      <td>int64</td>\n      <td>[0, 1]</td>\n    </tr>\n    <tr>\n      <th>9</th>\n      <td>HvyAlcoholConsump</td>\n      <td>int64</td>\n      <td>[0, 1]</td>\n    </tr>\n    <tr>\n      <th>10</th>\n      <td>MentHlth</td>\n      <td>int64</td>\n      <td>[18, 0, 30, 3, 5, 10, 15, 6, 20, 2, 25, 1, 4, 7, 8, 21, 14, 26, 29, 16, 28, 11, 12, 24, 17, 13, 27, 19, 22, 9, 23]</td>\n    </tr>\n    <tr>\n      <th>11</th>\n      <td>PhysHlth</td>\n      <td>int64</td>\n      <td>[15, 0, 30, 2, 14, 28, 7, 20, 3, 10, 1, 5, 17, 4, 19, 6, 12, 25, 27, 21, 22, 8, 29, 24, 9, 16, 18, 23, 13, 26, 11]</td>\n    </tr>\n    <tr>\n      <th>12</th>\n      <td>Sex</td>\n      <td>int64</td>\n      <td>[0, 1]</td>\n    </tr>\n    <tr>\n      <th>13</th>\n      <td>Age</td>\n      <td>int64</td>\n      <td>[9, 7, 11, 10, 8, 13, 4, 6, 12, 5, 1, 3, 2]</td>\n    </tr>\n    <tr>\n      <th>14</th>\n      <td>Education</td>\n      <td>int64</td>\n      <td>[4, 6, 3, 5, 2, 1]</td>\n    </tr>\n    <tr>\n      <th>15</th>\n      <td>Income</td>\n      <td>int64</td>\n      <td>[3, 1, 8, 6, 4, 7, 2, 5]</td>\n    </tr>\n  </tbody>\n</table>\n</div>"
          },
          "execution_count": 73,
          "metadata": {},
          "output_type": "execute_result"
        }
      ],
      "source": [
        "result_list = []\n",
        "for column in data.columns:\n",
        "    unique_category_names = data[column].unique()\n",
        "    column_data_type = data[column].dtype  # Added line to get the data type of the column\n",
        "    result_list.append({\n",
        "        'Column': column,\n",
        "        'Data Type': column_data_type,  # Added 'Data Type' field\n",
        "        'Category Names': unique_category_names.tolist()\n",
        "    })\n",
        "unique_categories_data = pd.DataFrame(result_list)\n",
        "unique_categories_data"
      ],
      "metadata": {
        "ExecuteTime": {
          "end_time": "2023-12-17T14:39:15.235507900Z",
          "start_time": "2023-12-17T14:39:15.185762400Z"
        },
        "id": "Lp2i6ovQ_-hz",
        "outputId": "e12ff149-d472-4d8c-e512-d52f9e0bd7e3"
      }
    },
    {
      "cell_type": "code",
      "execution_count": null,
      "outputs": [
        {
          "name": "stdout",
          "output_type": "stream",
          "text": [
            "\n",
            "Frequency of categories in 'HeartDiseaseorAttack':\n",
            "HeartDiseaseorAttack\n",
            "0    117842\n",
            "1     12156\n",
            "Name: count, dtype: int64\n",
            "\n",
            "Frequency of categories in 'HighBP':\n",
            "HighBP\n",
            "0    74149\n",
            "1    55849\n",
            "Name: count, dtype: int64\n",
            "\n",
            "Frequency of categories in 'HighChol':\n",
            "HighChol\n",
            "0    74577\n",
            "1    55421\n",
            "Name: count, dtype: int64\n",
            "\n",
            "Frequency of categories in 'CholCheck':\n",
            "CholCheck\n",
            "1    125229\n",
            "0      4769\n",
            "Name: count, dtype: int64\n",
            "\n",
            "Frequency of categories in 'BMI':\n",
            "BMI\n",
            "27.0    12544\n",
            "26.0    10439\n",
            "24.0    10087\n",
            "25.0     8760\n",
            "28.0     8378\n",
            "        ...  \n",
            "88.0        1\n",
            "85.0        1\n",
            "91.0        1\n",
            "86.0        1\n",
            "83.0        1\n",
            "Name: count, Length: 81, dtype: int64\n",
            "\n",
            "Frequency of categories in 'Smoker':\n",
            "Smoker\n",
            "0    71755\n",
            "1    58243\n",
            "Name: count, dtype: int64\n",
            "\n",
            "Frequency of categories in 'Stroke':\n",
            "Stroke\n",
            "0    124622\n",
            "1      5376\n",
            "Name: count, dtype: int64\n",
            "\n",
            "Frequency of categories in 'Diabetes':\n",
            "Diabetes\n",
            "0    109498\n",
            "2     18069\n",
            "1      2431\n",
            "Name: count, dtype: int64\n",
            "\n",
            "Frequency of categories in 'PhysActivity':\n",
            "PhysActivity\n",
            "1    98897\n",
            "0    31101\n",
            "Name: count, dtype: int64\n",
            "\n",
            "Frequency of categories in 'HvyAlcoholConsump':\n",
            "HvyAlcoholConsump\n",
            "0    122515\n",
            "1      7483\n",
            "Name: count, dtype: int64\n",
            "\n",
            "Frequency of categories in 'MentHlth':\n",
            "MentHlth\n",
            "0     89579\n",
            "2      6817\n",
            "30     5994\n",
            "5      4727\n",
            "1      4541\n",
            "3      3908\n",
            "10     3303\n",
            "15     2828\n",
            "4      1967\n",
            "20     1707\n",
            "7      1605\n",
            "25      643\n",
            "14      598\n",
            "6       533\n",
            "8       305\n",
            "12      221\n",
            "28      169\n",
            "21      115\n",
            "29       86\n",
            "18       51\n",
            "16       48\n",
            "9        46\n",
            "27       34\n",
            "22       33\n",
            "13       27\n",
            "17       25\n",
            "23       24\n",
            "11       20\n",
            "26       17\n",
            "24       17\n",
            "19       10\n",
            "Name: count, dtype: int64\n",
            "\n",
            "Frequency of categories in 'PhysHlth':\n",
            "PhysHlth\n",
            "0     82020\n",
            "30     9833\n",
            "2      7614\n",
            "1      5778\n",
            "3      4389\n",
            "5      3939\n",
            "10     2879\n",
            "15     2514\n",
            "4      2379\n",
            "7      2265\n",
            "20     1658\n",
            "14     1334\n",
            "25      718\n",
            "6       699\n",
            "8       431\n",
            "21      329\n",
            "12      306\n",
            "28      254\n",
            "29      124\n",
            "9        96\n",
            "18       68\n",
            "16       65\n",
            "27       46\n",
            "17       43\n",
            "24       39\n",
            "26       38\n",
            "23       36\n",
            "22       35\n",
            "13       33\n",
            "11       26\n",
            "19       10\n",
            "Name: count, dtype: int64\n",
            "\n",
            "Frequency of categories in 'Sex':\n",
            "Sex\n",
            "0    72901\n",
            "1    57097\n",
            "Name: count, dtype: int64\n",
            "\n",
            "Frequency of categories in 'Age':\n",
            "Age\n",
            "9     17045\n",
            "10    16635\n",
            "8     15791\n",
            "7     13536\n",
            "11    12300\n",
            "6     10039\n",
            "13     8967\n",
            "5      8220\n",
            "12     8176\n",
            "4      6942\n",
            "3      5646\n",
            "2      3786\n",
            "1      2915\n",
            "Name: count, dtype: int64\n",
            "\n",
            "Frequency of categories in 'Education':\n",
            "Education\n",
            "6    56678\n",
            "5    35652\n",
            "4    30980\n",
            "3     4664\n",
            "2     1953\n",
            "1       71\n",
            "Name: count, dtype: int64\n",
            "\n",
            "Frequency of categories in 'Income':\n",
            "Income\n",
            "8    47672\n",
            "7    22069\n",
            "6    18487\n",
            "5    13078\n",
            "4    10094\n",
            "3     7844\n",
            "2     6011\n",
            "1     4743\n",
            "Name: count, dtype: int64\n"
          ]
        }
      ],
      "source": [
        "for column in data.columns:\n",
        "    print(f\"\\nFrequency of categories in '{column}':\")\n",
        "    print(data[column].value_counts())"
      ],
      "metadata": {
        "ExecuteTime": {
          "end_time": "2023-12-15T15:26:47.963523100Z",
          "start_time": "2023-12-15T15:26:47.911369500Z"
        },
        "id": "3r9ATNy0_-h0",
        "outputId": "163004be-2830-4800-8b44-54c8cc7321c0"
      }
    },
    {
      "cell_type": "code",
      "execution_count": null,
      "outputs": [
        {
          "data": {
            "text/plain": "BMI\n27.0    9568\n26.0    7869\n24.0    7412\n28.0    6724\n25.0    6637\n        ... \n88.0       1\n85.0       1\n91.0       1\n86.0       1\n83.0       1\nName: count, Length: 81, dtype: int64"
          },
          "execution_count": 84,
          "metadata": {},
          "output_type": "execute_result"
        }
      ],
      "source": [
        "data['BMI'].value_counts()"
      ],
      "metadata": {
        "ExecuteTime": {
          "end_time": "2023-12-17T17:42:46.750917400Z",
          "start_time": "2023-12-17T17:42:46.634717600Z"
        },
        "id": "9fGpd55T_-h0",
        "outputId": "2f804b64-af65-423a-b733-10b5ccdce8fb"
      }
    },
    {
      "cell_type": "code",
      "execution_count": null,
      "outputs": [
        {
          "data": {
            "text/plain": "<Figure size 1000x1000 with 16 Axes>",
            "image/png": "[encoded data removed]"
          },
          "metadata": {},
          "output_type": "display_data"
        }
      ],
      "source": [
        "data[data.columns].hist(bins=16, figsize=(10,10))\n",
        "plt.savefig('histogram_plots')\n",
        "plt.show()"
      ],
      "metadata": {
        "ExecuteTime": {
          "end_time": "2023-12-17T17:54:37.703538100Z",
          "start_time": "2023-12-17T17:54:32.883092400Z"
        },
        "id": "8ct3pCa2_-h0",
        "outputId": "9d65dc4c-456d-4987-e3cb-79f9fe70045d"
      }
    },
    {
      "cell_type": "code",
      "execution_count": null,
      "outputs": [],
      "source": [
        "data.dropna(inplace=True)"
      ],
      "metadata": {
        "ExecuteTime": {
          "end_time": "2023-12-19T13:14:01.097775600Z",
          "start_time": "2023-12-19T13:14:01.034533300Z"
        },
        "id": "VaxtU_gJ_-h1"
      }
    },
    {
      "cell_type": "code",
      "execution_count": null,
      "outputs": [],
      "source": [
        "data.drop_duplicates(inplace=True)"
      ],
      "metadata": {
        "ExecuteTime": {
          "end_time": "2023-12-19T13:14:01.418604200Z",
          "start_time": "2023-12-19T13:14:01.355674100Z"
        },
        "id": "beJgEZ96_-h1"
      }
    },
    {
      "cell_type": "code",
      "execution_count": null,
      "outputs": [],
      "source": [
        "# 1. Predict the heart attack ('HeartDiseaseorAttack')"
      ],
      "metadata": {
        "ExecuteTime": {
          "end_time": "2023-12-19T13:14:03.478015200Z",
          "start_time": "2023-12-19T13:14:03.436509800Z"
        },
        "id": "i2WuLT_X_-h1"
      }
    },
    {
      "cell_type": "code",
      "execution_count": null,
      "outputs": [],
      "source": [
        "drop_columns = ['HeartDiseaseorAttack']\n",
        "X = data.drop(drop_columns, axis=1)\n",
        "y = data['HeartDiseaseorAttack']"
      ],
      "metadata": {
        "ExecuteTime": {
          "end_time": "2023-12-19T20:33:31.230568700Z",
          "start_time": "2023-12-19T20:33:31.145301Z"
        },
        "id": "giIt7jHF_-h1"
      }
    },
    {
      "cell_type": "code",
      "execution_count": null,
      "outputs": [],
      "source": [
        "X_train, X_test, y_train, y_test = train_test_split(X, y, test_size=0.2, random_state=0)"
      ],
      "metadata": {
        "ExecuteTime": {
          "end_time": "2023-12-19T20:33:31.695675400Z",
          "start_time": "2023-12-19T20:33:31.622695800Z"
        },
        "id": "qTGmuwNi_-h2"
      }
    },
    {
      "cell_type": "code",
      "execution_count": null,
      "outputs": [],
      "source": [
        "scaler = StandardScaler()\n",
        "X_train_scaled = scaler.fit_transform(X_train)\n",
        "X_test_scaled = scaler.transform(X_test)"
      ],
      "metadata": {
        "ExecuteTime": {
          "end_time": "2023-12-19T20:33:33.136699400Z",
          "start_time": "2023-12-19T20:33:33.030193500Z"
        },
        "id": "zPq7sXIu_-h2"
      }
    },
    {
      "cell_type": "code",
      "execution_count": null,
      "outputs": [],
      "source": [
        "##############################################\n",
        "#                LogisticRegression"
      ],
      "metadata": {
        "ExecuteTime": {
          "end_time": "2023-12-19T20:33:34.924017100Z",
          "start_time": "2023-12-19T20:33:34.888768100Z"
        },
        "id": "NZkEEUxj_-h2"
      }
    },
    {
      "cell_type": "code",
      "execution_count": null,
      "outputs": [],
      "source": [
        "log_reg = LogisticRegression(random_state=0) #Accuracy: 0.8918527515649818\n",
        "# log_reg = LogisticRegression(C=0.001, random_state=0) #Accuracy: 0.8920863309352518\n",
        "log_reg.fit(X_train_scaled, y_train)\n",
        "log_reg_pred = log_reg.predict(X_test_scaled)\n",
        "log_reg_ac = accuracy_score(y_test, log_reg_pred)"
      ],
      "metadata": {
        "ExecuteTime": {
          "end_time": "2023-12-19T20:33:36.299734200Z",
          "start_time": "2023-12-19T20:33:36.181945100Z"
        },
        "id": "xF6Hu822_-h2"
      }
    },
    {
      "cell_type": "code",
      "execution_count": null,
      "outputs": [
        {
          "name": "stdout",
          "output_type": "stream",
          "text": [
            "Logistic Regression Accuracy: 0.8918527515649818\n",
            "\n",
            "Logistic Regression Classification Report:\n",
            "              precision    recall  f1-score   support\n",
            "\n",
            "           0       0.90      0.99      0.94     19069\n",
            "           1       0.53      0.09      0.16      2337\n",
            "\n",
            "    accuracy                           0.89     21406\n",
            "   macro avg       0.71      0.54      0.55     21406\n",
            "weighted avg       0.86      0.89      0.86     21406\n"
          ]
        }
      ],
      "source": [
        "print(\"Logistic Regression Accuracy:\", log_reg_ac)\n",
        "print(\"\\nLogistic Regression Classification Report:\")\n",
        "print(classification_report(y_test, log_reg_pred, zero_division=1))"
      ],
      "metadata": {
        "ExecuteTime": {
          "end_time": "2023-12-19T20:33:37.749957600Z",
          "start_time": "2023-12-19T20:33:37.689602400Z"
        },
        "id": "HJfalz-j_-h2",
        "outputId": "67ddbc76-eded-4188-dc4f-2c6034bff331"
      }
    },
    {
      "cell_type": "code",
      "execution_count": null,
      "outputs": [],
      "source": [
        "# Version 2"
      ],
      "metadata": {
        "id": "EqN-337H_-h3"
      }
    },
    {
      "cell_type": "code",
      "execution_count": null,
      "outputs": [
        {
          "name": "stdout",
          "output_type": "stream",
          "text": [
            "\n",
            "Best Parameters: {'C': 0.001}\n"
          ]
        }
      ],
      "source": [
        "from sklearn.model_selection import GridSearchCV\n",
        "\n",
        "param_grid = {'C': [0.001, 0.01, 0.1, 1, 10, 100, 1000]}\n",
        "\n",
        "grid_search = GridSearchCV(LogisticRegression(random_state=0), param_grid, cv=5, scoring='accuracy')\n",
        "grid_search.fit(X_train_scaled, y_train)\n",
        "best_params = grid_search.best_params_\n",
        "print(f\"\\nBest Parameters: {best_params}\")"
      ],
      "metadata": {
        "ExecuteTime": {
          "end_time": "2023-12-18T17:41:59.830907800Z",
          "start_time": "2023-12-18T17:41:57.060262500Z"
        },
        "id": "wfuI7fNA_-h3",
        "outputId": "8970f3ee-3acf-4949-c52e-ec104e3c7dac"
      }
    },
    {
      "cell_type": "code",
      "execution_count": null,
      "outputs": [],
      "source": [
        "log_reg = LogisticRegression(C=0.001, random_state=0) #Accuracy: 0.8920863309352518\n",
        "log_reg.fit(X_train_scaled, y_train)\n",
        "log_reg_pred = log_reg.predict(X_test_scaled)\n",
        "log_reg_ac = accuracy_score(y_test, log_reg_pred)"
      ],
      "metadata": {
        "ExecuteTime": {
          "end_time": "2023-12-19T15:23:55.337958500Z",
          "start_time": "2023-12-19T15:23:55.280351400Z"
        },
        "id": "5js7pJpa_-h4"
      }
    },
    {
      "cell_type": "code",
      "execution_count": null,
      "outputs": [
        {
          "name": "stdout",
          "output_type": "stream",
          "text": [
            "Logistic Regression Accuracy: 0.8920863309352518\n",
            "\n",
            "Logistic Regression Classification Report:\n",
            "              precision    recall  f1-score   support\n",
            "\n",
            "           0       0.90      0.99      0.94     19069\n",
            "           1       0.54      0.08      0.13      2337\n",
            "\n",
            "    accuracy                           0.89     21406\n",
            "   macro avg       0.72      0.53      0.54     21406\n",
            "weighted avg       0.86      0.89      0.85     21406\n"
          ]
        }
      ],
      "source": [
        "print(\"Logistic Regression Accuracy:\", log_reg_ac)\n",
        "print(\"\\nLogistic Regression Classification Report:\")\n",
        "print(classification_report(y_test, log_reg_pred, zero_division=1))"
      ],
      "metadata": {
        "ExecuteTime": {
          "end_time": "2023-12-19T15:23:58.747702200Z",
          "start_time": "2023-12-19T15:23:58.716078500Z"
        },
        "id": "-ZK5gYsA_-h4",
        "outputId": "5c522b25-312c-494b-a5d1-f2d1a581e86e"
      }
    },
    {
      "cell_type": "code",
      "execution_count": null,
      "outputs": [],
      "source": [
        "# Version 3"
      ],
      "metadata": {
        "id": "HXEvjBvl_-h4"
      }
    },
    {
      "cell_type": "code",
      "execution_count": null,
      "outputs": [],
      "source": [
        "drop_columns = ['HeartDiseaseorAttack', 'Education', 'Smoker', 'MentHlth']\n",
        "X = data.drop(drop_columns, axis=1)\n",
        "y = data['HeartDiseaseorAttack']"
      ],
      "metadata": {
        "ExecuteTime": {
          "end_time": "2023-12-19T15:24:44.255911300Z",
          "start_time": "2023-12-19T15:24:44.222292800Z"
        },
        "id": "NBVPBbDG_-h5"
      }
    },
    {
      "cell_type": "code",
      "execution_count": null,
      "outputs": [],
      "source": [
        "X_train, X_test, y_train, y_test = train_test_split(X, y, test_size=0.2, random_state=0)"
      ],
      "metadata": {
        "ExecuteTime": {
          "end_time": "2023-12-19T15:24:44.548879500Z",
          "start_time": "2023-12-19T15:24:44.508626Z"
        },
        "id": "h-MOiB3k_-h5"
      }
    },
    {
      "cell_type": "code",
      "execution_count": null,
      "outputs": [],
      "source": [
        "scaler = StandardScaler()\n",
        "X_train_scaled = scaler.fit_transform(X_train)\n",
        "X_test_scaled = scaler.transform(X_test)"
      ],
      "metadata": {
        "ExecuteTime": {
          "end_time": "2023-12-19T15:24:44.799688800Z",
          "start_time": "2023-12-19T15:24:44.752818200Z"
        },
        "id": "KeyUF--P_-h5"
      }
    },
    {
      "cell_type": "code",
      "execution_count": null,
      "outputs": [],
      "source": [
        "log_reg = LogisticRegression( C=0.001, random_state=0)\n",
        "log_reg.fit(X_train_scaled, y_train)\n",
        "log_reg_pred = log_reg.predict(X_test_scaled)\n",
        "log_reg_ac = accuracy_score(y_test, log_reg_pred)"
      ],
      "metadata": {
        "ExecuteTime": {
          "end_time": "2023-12-19T15:24:45.088962700Z",
          "start_time": "2023-12-19T15:24:45.033124300Z"
        },
        "id": "bi_xaKUQ_-h5"
      }
    },
    {
      "cell_type": "code",
      "execution_count": null,
      "outputs": [
        {
          "name": "stdout",
          "output_type": "stream",
          "text": [
            "Logistic Regression Accuracy: 0.8921330468093058\n",
            "\n",
            "Logistic Regression Classification Report:\n",
            "              precision    recall  f1-score   support\n",
            "\n",
            "           0       0.90      0.99      0.94     19069\n",
            "           1       0.55      0.07      0.12      2337\n",
            "\n",
            "    accuracy                           0.89     21406\n",
            "   macro avg       0.72      0.53      0.53     21406\n",
            "weighted avg       0.86      0.89      0.85     21406\n"
          ]
        }
      ],
      "source": [
        "print(\"Logistic Regression Accuracy:\", log_reg_ac)\n",
        "print(\"\\nLogistic Regression Classification Report:\")\n",
        "print(classification_report(y_test, log_reg_pred, zero_division=1))"
      ],
      "metadata": {
        "ExecuteTime": {
          "end_time": "2023-12-19T15:24:45.898335300Z",
          "start_time": "2023-12-19T15:24:45.846516400Z"
        },
        "id": "KHdKSimw_-h6",
        "outputId": "60cc8be6-ffa6-41af-cd5d-b12de11c4631"
      }
    },
    {
      "cell_type": "code",
      "execution_count": null,
      "outputs": [],
      "source": [
        "# Version 4"
      ],
      "metadata": {
        "id": "PziXaNSB_-h6"
      }
    },
    {
      "cell_type": "code",
      "execution_count": null,
      "outputs": [],
      "source": [
        "drop_columns = ['HeartDiseaseorAttack', 'Education', 'Smoker', 'MentHlth']\n",
        "X = data.drop(drop_columns, axis=1)\n",
        "y = data['HeartDiseaseorAttack']"
      ],
      "metadata": {
        "ExecuteTime": {
          "end_time": "2023-12-19T15:25:11.184028100Z",
          "start_time": "2023-12-19T15:25:11.159663500Z"
        },
        "id": "fmJxx23K_-h6"
      }
    },
    {
      "cell_type": "code",
      "execution_count": null,
      "outputs": [],
      "source": [
        "X_train, X_test, y_train, y_test = train_test_split(X, y, test_size=0.2, random_state=0)"
      ],
      "metadata": {
        "ExecuteTime": {
          "end_time": "2023-12-19T15:25:11.462824900Z",
          "start_time": "2023-12-19T15:25:11.425401400Z"
        },
        "id": "ZOKgA3J1_-h6"
      }
    },
    {
      "cell_type": "code",
      "execution_count": null,
      "outputs": [],
      "source": [
        "scaler = StandardScaler()\n",
        "X_train_scaled = scaler.fit_transform(X_train)\n",
        "X_test_scaled = scaler.transform(X_test)"
      ],
      "metadata": {
        "ExecuteTime": {
          "end_time": "2023-12-19T15:25:11.759804100Z",
          "start_time": "2023-12-19T15:25:11.695684700Z"
        },
        "id": "prm6DY17_-h6"
      }
    },
    {
      "cell_type": "code",
      "execution_count": null,
      "outputs": [],
      "source": [
        "log_reg = LogisticRegression(solver='lbfgs', penalty=None, random_state=0) #  C=0.001, # l2 = Accuracy: 0.8926002055498459\n",
        "log_reg.fit(X_train_scaled, y_train)\n",
        "log_reg_pred = log_reg.predict(X_test_scaled)\n",
        "log_reg_ac = accuracy_score(y_test, log_reg_pred)"
      ],
      "metadata": {
        "ExecuteTime": {
          "end_time": "2023-12-19T15:25:12.340781100Z",
          "start_time": "2023-12-19T15:25:12.267970300Z"
        },
        "id": "ilrX1cAJ_-h7"
      }
    },
    {
      "cell_type": "code",
      "execution_count": null,
      "outputs": [
        {
          "name": "stdout",
          "output_type": "stream",
          "text": [
            "Logistic Regression Accuracy: 0.8926002055498459\n",
            "\n",
            "Logistic Regression Classification Report:\n",
            "              precision    recall  f1-score   support\n",
            "\n",
            "           0       0.90      0.99      0.94     19069\n",
            "           1       0.55      0.09      0.16      2337\n",
            "\n",
            "    accuracy                           0.89     21406\n",
            "   macro avg       0.72      0.54      0.55     21406\n",
            "weighted avg       0.86      0.89      0.86     21406\n"
          ]
        }
      ],
      "source": [
        "print(\"Logistic Regression Accuracy:\", log_reg_ac)\n",
        "print(\"\\nLogistic Regression Classification Report:\")\n",
        "print(classification_report(y_test, log_reg_pred, zero_division=1))"
      ],
      "metadata": {
        "ExecuteTime": {
          "end_time": "2023-12-18T18:17:57.144740700Z",
          "start_time": "2023-12-18T18:17:57.049210700Z"
        },
        "id": "4F9Z6fCl_-h7",
        "outputId": "5010d40a-9fa1-4f96-a364-bda06c422fab"
      }
    },
    {
      "cell_type": "code",
      "execution_count": null,
      "outputs": [],
      "source": [
        "# Version 5"
      ],
      "metadata": {
        "id": "WoUJWxrn_-iK"
      }
    },
    {
      "cell_type": "code",
      "execution_count": null,
      "outputs": [],
      "source": [
        "drop_columns = ['HeartDiseaseorAttack', 'Education', 'Smoker', 'MentHlth']\n",
        "X = data.drop(drop_columns, axis=1)\n",
        "y = data['HeartDiseaseorAttack']"
      ],
      "metadata": {
        "ExecuteTime": {
          "end_time": "2023-12-19T15:26:34.868664600Z",
          "start_time": "2023-12-19T15:26:34.841677700Z"
        },
        "id": "09A_pbjt_-iK"
      }
    },
    {
      "cell_type": "code",
      "execution_count": null,
      "outputs": [],
      "source": [
        "X_train, X_test, y_train, y_test = train_test_split(X, y, test_size=0.2, random_state=0)"
      ],
      "metadata": {
        "ExecuteTime": {
          "end_time": "2023-12-19T15:26:35.219559900Z",
          "start_time": "2023-12-19T15:26:35.180964300Z"
        },
        "id": "Pyx3JI81_-iK"
      }
    },
    {
      "cell_type": "code",
      "execution_count": null,
      "outputs": [],
      "source": [
        "scaler = StandardScaler()\n",
        "X_train_scaled = scaler.fit_transform(X_train)\n",
        "X_test_scaled = scaler.transform(X_test)"
      ],
      "metadata": {
        "ExecuteTime": {
          "end_time": "2023-12-19T15:26:35.658039900Z",
          "start_time": "2023-12-19T15:26:35.618139Z"
        },
        "id": "Amk6S9m9_-iL"
      }
    },
    {
      "cell_type": "code",
      "execution_count": null,
      "outputs": [],
      "source": [
        "log_reg = LogisticRegression(solver='sag', penalty=None, random_state=0) #Logistic Regression Accuracy: 0.8926469214238998\n",
        "log_reg.fit(X_train_scaled, y_train)\n",
        "log_reg_pred = log_reg.predict(X_test_scaled)\n",
        "log_reg_ac = accuracy_score(y_test, log_reg_pred)"
      ],
      "metadata": {
        "ExecuteTime": {
          "end_time": "2023-12-19T15:26:36.844150100Z",
          "start_time": "2023-12-19T15:26:36.234731Z"
        },
        "id": "JO_WFJyF_-iL"
      }
    },
    {
      "cell_type": "code",
      "execution_count": null,
      "outputs": [
        {
          "name": "stdout",
          "output_type": "stream",
          "text": [
            "Logistic Regression Accuracy: 0.8926469214238998\n",
            "\n",
            "Logistic Regression Classification Report:\n",
            "              precision    recall  f1-score   support\n",
            "\n",
            "           0       0.90      0.99      0.94     19069\n",
            "           1       0.55      0.09      0.16      2337\n",
            "\n",
            "    accuracy                           0.89     21406\n",
            "   macro avg       0.72      0.54      0.55     21406\n",
            "weighted avg       0.86      0.89      0.86     21406\n"
          ]
        }
      ],
      "source": [
        "print(\"Logistic Regression Accuracy:\", log_reg_ac)\n",
        "print(\"\\nLogistic Regression Classification Report:\")\n",
        "print(classification_report(y_test, log_reg_pred, zero_division=1))"
      ],
      "metadata": {
        "ExecuteTime": {
          "end_time": "2023-12-19T13:18:40.394165200Z",
          "start_time": "2023-12-19T13:18:40.348879500Z"
        },
        "id": "K43FQXzu_-iL",
        "outputId": "56d2c061-db42-41d0-d6a1-4ec54268480c"
      }
    },
    {
      "cell_type": "code",
      "execution_count": null,
      "outputs": [],
      "source": [
        "# Version 6"
      ],
      "metadata": {
        "id": "JQmsisnl_-iL"
      }
    },
    {
      "cell_type": "code",
      "execution_count": null,
      "outputs": [],
      "source": [
        "drop_columns = ['HeartDiseaseorAttack']\n",
        "# 'HighBP', 'HighChol', 'CholCheck','Stroke','Diabetes','Age', 'MentHlth', , 'PhysHlth', 'PhysActivity', 'HvyAlcoholConsump', 'BMI', 'Smoker', 'Sex', 'Education', 'Income'\n",
        "X = data.drop(drop_columns, axis=1)\n",
        "y = data['HeartDiseaseorAttack']"
      ],
      "metadata": {
        "ExecuteTime": {
          "end_time": "2023-12-19T15:27:40.017349500Z",
          "start_time": "2023-12-19T15:27:39.991050200Z"
        },
        "id": "PGgPoRUn_-iL"
      }
    },
    {
      "cell_type": "code",
      "execution_count": null,
      "outputs": [],
      "source": [
        "X_train, X_test, y_train, y_test = train_test_split(X, y, test_size=0.2, random_state=0)"
      ],
      "metadata": {
        "ExecuteTime": {
          "end_time": "2023-12-19T15:27:40.267232200Z",
          "start_time": "2023-12-19T15:27:40.232385800Z"
        },
        "id": "52YPPARI_-iL"
      }
    },
    {
      "cell_type": "code",
      "execution_count": null,
      "outputs": [],
      "source": [
        "from sklearn.preprocessing import MinMaxScaler\n",
        "scaler = MinMaxScaler()\n",
        "X_train_scaled = scaler.fit_transform(X_train)\n",
        "X_test_scaled = scaler.transform(X_test)"
      ],
      "metadata": {
        "ExecuteTime": {
          "end_time": "2023-12-19T15:27:40.555253400Z",
          "start_time": "2023-12-19T15:27:40.516703400Z"
        },
        "id": "EvG7LZx5_-iM"
      }
    },
    {
      "cell_type": "code",
      "execution_count": null,
      "outputs": [],
      "source": [
        "log_reg = LogisticRegression(class_weight={0: 0.2, 1: 0.8},random_state=0)\n",
        "log_reg.fit(X_train_scaled, y_train)\n",
        "log_reg_pred = log_reg.predict(X_test_scaled)\n",
        "log_reg_ac = accuracy_score(y_test, log_reg_pred)"
      ],
      "metadata": {
        "ExecuteTime": {
          "end_time": "2023-12-19T17:54:46.760976900Z",
          "start_time": "2023-12-19T17:54:46.599877300Z"
        },
        "id": "eIQfccTJ_-iM"
      }
    },
    {
      "cell_type": "code",
      "execution_count": null,
      "outputs": [
        {
          "name": "stdout",
          "output_type": "stream",
          "text": [
            "Logistic Regression Accuracy: 0.828365878725591\n",
            "\n",
            "Logistic Regression Classification Report:\n",
            "              precision    recall  f1-score   support\n",
            "\n",
            "           0       0.94      0.87      0.90     19069\n",
            "           1       0.32      0.52      0.40      2337\n",
            "\n",
            "    accuracy                           0.83     21406\n",
            "   macro avg       0.63      0.69      0.65     21406\n",
            "weighted avg       0.87      0.83      0.85     21406\n"
          ]
        }
      ],
      "source": [
        "print(\"Logistic Regression Accuracy:\", log_reg_ac)\n",
        "print(\"\\nLogistic Regression Classification Report:\")\n",
        "print(classification_report(y_test, log_reg_pred, zero_division=1))"
      ],
      "metadata": {
        "ExecuteTime": {
          "end_time": "2023-12-19T17:54:47.410917700Z",
          "start_time": "2023-12-19T17:54:47.363805300Z"
        },
        "id": "fknIu_I4_-iM",
        "outputId": "72f9e559-95fe-4b0f-8280-a6ea4b9d7f94"
      }
    },
    {
      "cell_type": "code",
      "execution_count": null,
      "outputs": [],
      "source": [
        "###############################################\n",
        "#              RandomForestClassifier"
      ],
      "metadata": {
        "ExecuteTime": {
          "end_time": "2023-12-18T15:36:47.943039300Z",
          "start_time": "2023-12-18T15:36:47.900039100Z"
        },
        "id": "X5j8T05f_-iM"
      }
    },
    {
      "cell_type": "code",
      "execution_count": null,
      "outputs": [],
      "source": [
        "rf = RandomForestClassifier(random_state=0)\n",
        "rf.fit(X_train, y_train)\n",
        "rf_pred = rf.predict(X_test)\n",
        "rf_ac = accuracy_score(y_test, rf_pred)"
      ],
      "metadata": {
        "ExecuteTime": {
          "end_time": "2023-12-19T11:00:42.827988700Z",
          "start_time": "2023-12-19T11:00:35.069761600Z"
        },
        "id": "lX8p_FOu_-iM"
      }
    },
    {
      "cell_type": "code",
      "execution_count": null,
      "outputs": [
        {
          "name": "stdout",
          "output_type": "stream",
          "text": [
            "Random Forest Accuracy: 0.8756890591422966\n",
            "\n",
            "Random Forest Classification Report:\n",
            "              precision    recall  f1-score   support\n",
            "\n",
            "           0       0.90      0.97      0.93     19069\n",
            "           1       0.30      0.10      0.15      2337\n",
            "\n",
            "    accuracy                           0.88     21406\n",
            "   macro avg       0.60      0.54      0.54     21406\n",
            "weighted avg       0.83      0.88      0.85     21406\n"
          ]
        }
      ],
      "source": [
        "print(\"Random Forest Accuracy:\", rf_ac)\n",
        "print(\"\\nRandom Forest Classification Report:\")\n",
        "print(classification_report(y_test, rf_pred, zero_division=1))"
      ],
      "metadata": {
        "ExecuteTime": {
          "end_time": "2023-12-19T11:00:43.855153200Z",
          "start_time": "2023-12-19T11:00:43.790260800Z"
        },
        "id": "tvyGYwzp_-iN",
        "outputId": "c90674e1-8910-4e33-c172-127d63655de5"
      }
    },
    {
      "cell_type": "code",
      "execution_count": null,
      "outputs": [],
      "source": [
        "################################################\n",
        "#                   XGBoost"
      ],
      "metadata": {
        "ExecuteTime": {
          "end_time": "2023-12-18T23:04:33.761048800Z",
          "start_time": "2023-12-18T23:04:33.727678100Z"
        },
        "id": "Iuu0KUsk_-iN"
      }
    },
    {
      "cell_type": "code",
      "execution_count": null,
      "outputs": [],
      "source": [
        "xgb = XGBClassifier(random_state=0)\n",
        "xgb.fit(X_train, y_train)\n",
        "xgb_pred = xgb.predict(X_test)\n",
        "xgb_ac = accuracy_score(y_test, xgb_pred)"
      ],
      "metadata": {
        "ExecuteTime": {
          "end_time": "2023-12-19T11:00:46.983900500Z",
          "start_time": "2023-12-19T11:00:46.673002800Z"
        },
        "id": "kaEDAHTS_-iN"
      }
    },
    {
      "cell_type": "code",
      "execution_count": null,
      "outputs": [
        {
          "name": "stdout",
          "output_type": "stream",
          "text": [
            "XGBoost Accuracy: 0.8903111277211997\n",
            "\n",
            "XGBoost Classification Report:\n",
            "              precision    recall  f1-score   support\n",
            "\n",
            "           0       0.90      0.99      0.94     19069\n",
            "           1       0.49      0.09      0.16      2337\n",
            "\n",
            "    accuracy                           0.89     21406\n",
            "   macro avg       0.69      0.54      0.55     21406\n",
            "weighted avg       0.85      0.89      0.86     21406\n"
          ]
        }
      ],
      "source": [
        "print(\"XGBoost Accuracy:\", xgb_ac)\n",
        "print(\"\\nXGBoost Classification Report:\")\n",
        "print(classification_report(y_test, xgb_pred, zero_division=1))"
      ],
      "metadata": {
        "ExecuteTime": {
          "end_time": "2023-12-19T11:00:49.341564200Z",
          "start_time": "2023-12-19T11:00:49.248060200Z"
        },
        "id": "NjucFwLe_-iN",
        "outputId": "3e8211f6-e95c-41c9-b848-d7e0a6de5238"
      }
    },
    {
      "cell_type": "code",
      "execution_count": null,
      "outputs": [],
      "source": [
        "#############################################\n",
        "#              MLPClassifier"
      ],
      "metadata": {
        "ExecuteTime": {
          "end_time": "2023-12-17T21:17:55.725402500Z",
          "start_time": "2023-12-17T21:17:55.665381900Z"
        },
        "id": "jeo7XMHf_-iO"
      }
    },
    {
      "cell_type": "code",
      "execution_count": null,
      "outputs": [],
      "source": [
        "mlp = MLPClassifier(random_state=0).fit(X_train, y_train)\n",
        "mlp.fit(X_train_scaled, y_train)\n",
        "mlp_pred = mlp.predict(X_test_scaled)\n",
        "mlp_ac = accuracy_score(y_test, mlp_pred)"
      ],
      "metadata": {
        "ExecuteTime": {
          "end_time": "2023-12-19T11:01:33.334689300Z",
          "start_time": "2023-12-19T11:00:52.439977100Z"
        },
        "id": "w7PFg3zW_-iO"
      }
    },
    {
      "cell_type": "code",
      "execution_count": null,
      "outputs": [
        {
          "name": "stdout",
          "output_type": "stream",
          "text": [
            "MLPClassifier Accuracy: 0.8896103896103896\n",
            "\n",
            "MLPClassifier Report:\n",
            "              precision    recall  f1-score   support\n",
            "\n",
            "           0       0.90      0.99      0.94     19069\n",
            "           1       0.47      0.10      0.16      2337\n",
            "\n",
            "    accuracy                           0.89     21406\n",
            "   macro avg       0.69      0.54      0.55     21406\n",
            "weighted avg       0.85      0.89      0.86     21406\n"
          ]
        }
      ],
      "source": [
        "print(\"MLPClassifier Accuracy:\", mlp_ac)\n",
        "print(\"\\nMLPClassifier Report:\")\n",
        "print(classification_report(y_test, mlp_pred, zero_division=1))"
      ],
      "metadata": {
        "ExecuteTime": {
          "end_time": "2023-12-19T11:03:28.530240200Z",
          "start_time": "2023-12-19T11:03:28.477962600Z"
        },
        "id": "WWdi1eOC_-iO",
        "outputId": "3d5e8483-e84d-4869-929c-724387c491aa"
      }
    },
    {
      "cell_type": "code",
      "execution_count": null,
      "outputs": [],
      "source": [
        "###############################################\n",
        "#                   SVC"
      ],
      "metadata": {
        "ExecuteTime": {
          "end_time": "2023-12-18T23:06:08.280794200Z",
          "start_time": "2023-12-18T23:06:08.262039Z"
        },
        "id": "z6orusBC_-iO"
      }
    },
    {
      "cell_type": "code",
      "execution_count": null,
      "outputs": [],
      "source": [
        "import pandas as pd\n",
        "import matplotlib.pyplot as plt\n",
        "from sklearn.model_selection import train_test_split\n",
        "from sklearn.preprocessing import StandardScaler\n",
        "from sklearn.svm import SVC\n",
        "from sklearn.metrics import accuracy_score, classification_report\n",
        "%matplotlib inline"
      ],
      "metadata": {
        "ExecuteTime": {
          "end_time": "2023-12-19T11:03:31.897195400Z",
          "start_time": "2023-12-19T11:03:31.870733100Z"
        },
        "id": "FcitwaoQ_-iO"
      }
    },
    {
      "cell_type": "code",
      "execution_count": null,
      "outputs": [],
      "source": [
        "pd.set_option('display.max_colwidth', None)"
      ],
      "metadata": {
        "ExecuteTime": {
          "end_time": "2023-12-19T11:03:32.921513800Z",
          "start_time": "2023-12-19T11:03:32.893976200Z"
        },
        "id": "qJp8v-in_-iP"
      }
    },
    {
      "cell_type": "code",
      "execution_count": null,
      "outputs": [],
      "source": [
        "data = pd.read_csv('heart_attack.csv')"
      ],
      "metadata": {
        "ExecuteTime": {
          "end_time": "2023-12-19T11:03:33.442535800Z",
          "start_time": "2023-12-19T11:03:33.355603400Z"
        },
        "id": "xUj1NNgH_-iP"
      }
    },
    {
      "cell_type": "code",
      "execution_count": null,
      "outputs": [],
      "source": [
        "data.dropna(inplace=True)"
      ],
      "metadata": {
        "ExecuteTime": {
          "end_time": "2023-12-19T11:03:33.837124100Z",
          "start_time": "2023-12-19T11:03:33.795080800Z"
        },
        "id": "LKKDQAdu_-iP"
      }
    },
    {
      "cell_type": "code",
      "execution_count": null,
      "outputs": [],
      "source": [
        "data.drop_duplicates(inplace=True)"
      ],
      "metadata": {
        "ExecuteTime": {
          "end_time": "2023-12-19T11:03:34.329209500Z",
          "start_time": "2023-12-19T11:03:34.252864900Z"
        },
        "id": "H_cLvu16_-iQ"
      }
    },
    {
      "cell_type": "code",
      "execution_count": null,
      "outputs": [],
      "source": [
        "data_sample = data.sample(frac=0.1)"
      ],
      "metadata": {
        "ExecuteTime": {
          "end_time": "2023-12-19T11:03:35.948499300Z",
          "start_time": "2023-12-19T11:03:35.892974200Z"
        },
        "id": "1YE5iJ74_-iQ"
      }
    },
    {
      "cell_type": "code",
      "execution_count": null,
      "outputs": [],
      "source": [
        "drop_columns = ['HeartDiseaseorAttack']#, 'Education', 'Smoker', 'MentHlth']\n",
        "X_sample = data_sample.drop(drop_columns, axis=1)\n",
        "y_sample = data_sample['HeartDiseaseorAttack']\n",
        "\n",
        "X_train_sample, X_test_sample, y_train_sample, y_test_sample = train_test_split(X_sample, y_sample, test_size=0.2, random_state=0)"
      ],
      "metadata": {
        "ExecuteTime": {
          "end_time": "2023-12-19T11:03:36.359366700Z",
          "start_time": "2023-12-19T11:03:36.331209100Z"
        },
        "id": "1Zaa_uFL_-iQ"
      }
    },
    {
      "cell_type": "code",
      "execution_count": null,
      "outputs": [],
      "source": [
        "scaler = StandardScaler()\n",
        "X_train_scaled = scaler.fit_transform(X_train_sample)\n",
        "X_test_scaled = scaler.transform(X_test_sample)"
      ],
      "metadata": {
        "ExecuteTime": {
          "end_time": "2023-12-19T11:03:38.498764900Z",
          "start_time": "2023-12-19T11:03:38.473830900Z"
        },
        "id": "5hY7-ypk_-iQ"
      }
    },
    {
      "cell_type": "code",
      "execution_count": null,
      "outputs": [],
      "source": [
        "svc = SVC(kernel='rbf', random_state=0)\n",
        "svc.fit(X_train_scaled, y_train_sample)\n",
        "svc_pred = svc.predict(X_test_scaled)\n",
        "svc_ac = accuracy_score(y_test_sample, svc_pred)"
      ],
      "metadata": {
        "ExecuteTime": {
          "end_time": "2023-12-19T11:03:43.131042200Z",
          "start_time": "2023-12-19T11:03:41.087790500Z"
        },
        "id": "6_LZoqfC_-iQ"
      }
    },
    {
      "cell_type": "code",
      "execution_count": null,
      "outputs": [
        {
          "name": "stdout",
          "output_type": "stream",
          "text": [
            "SVM Accuracy: 0.8902382064455862\n",
            "\n",
            "SVM Classification Report:\n",
            "              precision    recall  f1-score   support\n",
            "\n",
            "           0       0.89      0.99      0.94      1905\n",
            "           1       0.52      0.06      0.11       236\n",
            "\n",
            "    accuracy                           0.89      2141\n",
            "   macro avg       0.71      0.53      0.52      2141\n",
            "weighted avg       0.85      0.89      0.85      2141\n"
          ]
        }
      ],
      "source": [
        "# (kernel='rbf')#default\n",
        "print(\"SVM Accuracy:\", svc_ac)\n",
        "print(\"\\nSVM Classification Report:\")\n",
        "print(classification_report(y_test_sample, svc_pred, zero_division=1))"
      ],
      "metadata": {
        "ExecuteTime": {
          "end_time": "2023-12-19T11:03:45.051855200Z",
          "start_time": "2023-12-19T11:03:44.992171300Z"
        },
        "id": "TWM7Ru6J_-iQ",
        "outputId": "2540efdd-30cd-4efd-e139-e739ad311510"
      }
    },
    {
      "cell_type": "code",
      "execution_count": null,
      "outputs": [
        {
          "data": {
            "text/plain": "           Algorithms  Accuracy Score\n0  LogisticRegression        0.891853\n2             XGBoost        0.890311\n4                 SVM        0.890238\n3       MLPClassifier        0.889610\n1       Random Forest        0.875689",
            "text/html": "<div>\n<style scoped>\n    .dataframe tbody tr th:only-of-type {\n        vertical-align: middle;\n    }\n\n    .dataframe tbody tr th {\n        vertical-align: top;\n    }\n\n    .dataframe thead th {\n        text-align: right;\n    }\n</style>\n<table border=\"1\" class=\"dataframe\">\n  <thead>\n    <tr style=\"text-align: right;\">\n      <th></th>\n      <th>Algorithms</th>\n      <th>Accuracy Score</th>\n    </tr>\n  </thead>\n  <tbody>\n    <tr>\n      <th>0</th>\n      <td>LogisticRegression</td>\n      <td>0.891853</td>\n    </tr>\n    <tr>\n      <th>2</th>\n      <td>XGBoost</td>\n      <td>0.890311</td>\n    </tr>\n    <tr>\n      <th>4</th>\n      <td>SVM</td>\n      <td>0.890238</td>\n    </tr>\n    <tr>\n      <th>3</th>\n      <td>MLPClassifier</td>\n      <td>0.889610</td>\n    </tr>\n    <tr>\n      <th>1</th>\n      <td>Random Forest</td>\n      <td>0.875689</td>\n    </tr>\n  </tbody>\n</table>\n</div>"
          },
          "execution_count": 27,
          "metadata": {},
          "output_type": "execute_result"
        }
      ],
      "source": [
        "models = ['LogisticRegression','Random Forest', 'XGBoost', 'MLPClassifier', 'SVM']\n",
        "accuracy_values = [log_reg_ac, rf_ac, xgb_ac, mlp_ac, svc_ac]\n",
        "compare_models = pd.DataFrame({ 'Algorithms': models, 'Accuracy Score': accuracy_values })\n",
        "compare_models.sort_values(by = 'Accuracy Score', ascending = False)"
      ],
      "metadata": {
        "ExecuteTime": {
          "end_time": "2023-12-19T11:03:51.461073Z",
          "start_time": "2023-12-19T11:03:51.429268500Z"
        },
        "id": "trcE1LRE_-iQ",
        "outputId": "67f13e2d-0211-4eea-e58d-9242df486462"
      }
    },
    {
      "cell_type": "code",
      "execution_count": null,
      "outputs": [
        {
          "data": {
            "text/plain": "<Figure size 640x480 with 1 Axes>",
            "image/png": "[encoded data removed]"
          },
          "metadata": {},
          "output_type": "display_data"
        }
      ],
      "source": [
        "# plt.figure(figsize=(8,8))\n",
        "TestsScore=accuracy_values\n",
        "sns.barplot(x = 'Accuracy Score', y = 'Algorithms', data = compare_models.sort_values(by = 'Accuracy Score', ascending = False))\n",
        "plt.show()"
      ],
      "metadata": {
        "ExecuteTime": {
          "end_time": "2023-12-19T11:03:54.151172700Z",
          "start_time": "2023-12-19T11:03:54.005746600Z"
        },
        "id": "MDUe9JP7_-iR",
        "outputId": "46a8ae07-f3ae-4c57-8f55-de1f6f79441d"
      }
    },
    {
      "cell_type": "code",
      "execution_count": null,
      "outputs": [
        {
          "name": "stdout",
          "output_type": "stream",
          "text": [
            "                      LogRegr  Rand_Forest   XGBoost       MLP       SVM\n",
            "Metric                                                                  \n",
            "Accuracy             0.891853     0.875689  0.890311  0.889610  0.890238\n",
            "Precision (Class 0)  0.899209     0.897982  0.898822  0.899207  0.894986\n",
            "Precision (Class 1)  0.526066     0.295455  0.487585  0.473029  0.518519\n",
            "Recall (Class 0)     0.989512     0.970738  0.988096  0.986680  0.993176\n",
            "Recall (Class 1)     0.094994     0.100128  0.092426  0.097561  0.059322\n",
            "F1-Score (Class 0)   0.942202     0.932944  0.941347  0.940915  0.941528\n",
            "F1-Score (Class 1)   0.160928     0.149569  0.155396  0.161759  0.106464\n"
          ]
        }
      ],
      "source": [
        "from sklearn.metrics import precision_recall_fscore_support\n",
        "log_reg_metrics = precision_recall_fscore_support(y_test, log_reg_pred, average=None)\n",
        "rf_metrics = precision_recall_fscore_support(y_test, rf_pred, average=None)\n",
        "svm_metrics = precision_recall_fscore_support(y_test_sample, svc_pred, average=None)\n",
        "xgb_metrics = precision_recall_fscore_support(y_test, xgb_pred, average=None)\n",
        "mlp_metrics = precision_recall_fscore_support(y_test, mlp_pred, average=None)\n",
        "\n",
        "accuracy_values = [log_reg_ac, rf_ac, xgb_ac, mlp_ac, svc_ac]\n",
        "metrics_data = {\n",
        "    'Metric': ['Accuracy', 'Precision (Class 0)', 'Precision (Class 1)', 'Recall (Class 0)', 'Recall (Class 1)', 'F1-Score (Class 0)', 'F1-Score (Class 1)'],\n",
        "    'LogRegr': [log_reg_ac, *log_reg_metrics[0], *log_reg_metrics[1], *log_reg_metrics[2]],\n",
        "    'Rand_Forest': [rf_ac, *rf_metrics[0], *rf_metrics[1], *rf_metrics[2]],\n",
        "    'XGBoost': [xgb_ac, *xgb_metrics[0], *xgb_metrics[1], *xgb_metrics[2]],\n",
        "    'MLP': [mlp_ac, *mlp_metrics[0], *mlp_metrics[1], *mlp_metrics[2]],\n",
        "    'SVM': [svc_ac, *svm_metrics[0], *svm_metrics[1], *svm_metrics[2]]\n",
        "}\n",
        "\n",
        "metrics_df = pd.DataFrame(metrics_data)\n",
        "metrics_df.set_index('Metric', inplace=True)\n",
        "print(metrics_df)"
      ],
      "metadata": {
        "ExecuteTime": {
          "end_time": "2023-12-19T11:05:11.658146300Z",
          "start_time": "2023-12-19T11:05:11.076754Z"
        },
        "id": "dR9Z0ozj_-iR",
        "outputId": "d39d0c93-95e1-4522-fbd4-a3d3407ab64e"
      }
    }
  ],
  "metadata": {
    "kernelspec": {
      "display_name": "Python 3",
      "language": "python",
      "name": "python3"
    },
    "language_info": {
      "codemirror_mode": {
        "name": "ipython",
        "version": 2
      },
      "file_extension": ".py",
      "mimetype": "text/x-python",
      "name": "python",
      "nbconvert_exporter": "python",
      "pygments_lexer": "ipython2",
      "version": "2.7.6"
    },
    "colab": {
      "provenance": [],
      "include_colab_link": true
    }
  },
  "nbformat": 4,
  "nbformat_minor": 0
}